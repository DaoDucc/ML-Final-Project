{
 "cells": [
  {
   "cell_type": "code",
   "execution_count": null,
   "metadata": {},
   "outputs": [],
   "source": [
    "# Dao Minh Duc\n",
    "# Tools for data migration\n",
    "#\n",
    "\n",
    "import shutil\n",
    "import os\n",
    "from PIL import Image\n",
    "# Remember to change the source\n",
    "source = r\"Fish_Dataset/Trout/Trout/\"\n",
    "destination = r\"ANN_dataset/validation/fishs/\"\n",
    "\n",
    "files = os.listdir(source)\n",
    "first=r\"0000\"\n",
    "animalType = r\"fish.\"\n",
    "fileType = r\".jpg\"\n",
    "fileTypeTest=r\".png\"\n",
    "# Changing the count if you put all file at the same location \n",
    "count= 0\n",
    "\n",
    "for file in files:\n",
    "    print(count)\n",
    "    newIndex= count+199\n",
    "    if count == 100: \n",
    "        break\n",
    "    if count+1 == 10 or count+1 == 100:\n",
    "        first=first[:-1]\n",
    "\n",
    "    old_name= source + first+str(count+1)+ fileTypeTest\n",
    "    new_name= destination + animalType + str(count+400) +fileType\n",
    "    # os.rename(old_name, new_name)\n",
    "    im1 = Image.open(old_name)\n",
    "    im1.save(new_name)\n",
    "    count+=1"
   ]
  }
 ],
 "metadata": {
  "language_info": {
   "name": "python"
  },
  "orig_nbformat": 4
 },
 "nbformat": 4,
 "nbformat_minor": 2
}
